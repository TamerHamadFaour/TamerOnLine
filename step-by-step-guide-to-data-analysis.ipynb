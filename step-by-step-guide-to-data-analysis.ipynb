{
 "cells": [
  {
   "cell_type": "markdown",
   "id": "be71c1c6",
   "metadata": {
    "papermill": {
     "duration": 0.011916,
     "end_time": "2024-09-11T11:20:52.039860",
     "exception": false,
     "start_time": "2024-09-11T11:20:52.027944",
     "status": "completed"
    },
    "tags": []
   },
   "source": [
    "# Import Libraries"
   ]
  },
  {
   "cell_type": "code",
   "execution_count": 1,
   "id": "96d4ac1e",
   "metadata": {
    "execution": {
     "iopub.execute_input": "2024-09-11T11:20:52.061976Z",
     "iopub.status.busy": "2024-09-11T11:20:52.061501Z",
     "iopub.status.idle": "2024-09-11T11:20:54.864895Z",
     "shell.execute_reply": "2024-09-11T11:20:54.863641Z"
    },
    "papermill": {
     "duration": 2.817637,
     "end_time": "2024-09-11T11:20:54.867716",
     "exception": false,
     "start_time": "2024-09-11T11:20:52.050079",
     "status": "completed"
    },
    "tags": []
   },
   "outputs": [],
   "source": [
    "import pandas as pd\n",
    "import numpy as np\n",
    "import matplotlib.pyplot as plt\n",
    "import seaborn as sns\n",
    "from sklearn.model_selection import train_test_split\n",
    "from sklearn.preprocessing import StandardScaler\n",
    "from sklearn.linear_model import LinearRegression\n",
    "from sklearn.metrics import mean_squared_error\n",
    "from sklearn.datasets import fetch_california_housing  # New dataset\n"
   ]
  },
  {
   "cell_type": "markdown",
   "id": "11fb7607",
   "metadata": {
    "papermill": {
     "duration": 0.009463,
     "end_time": "2024-09-11T11:20:54.887474",
     "exception": false,
     "start_time": "2024-09-11T11:20:54.878011",
     "status": "completed"
    },
    "tags": []
   },
   "source": [
    "# Load and Read the Data"
   ]
  },
  {
   "cell_type": "code",
   "execution_count": 2,
   "id": "5133509a",
   "metadata": {
    "execution": {
     "iopub.execute_input": "2024-09-11T11:20:54.909692Z",
     "iopub.status.busy": "2024-09-11T11:20:54.908518Z",
     "iopub.status.idle": "2024-09-11T11:20:56.266608Z",
     "shell.execute_reply": "2024-09-11T11:20:56.265471Z"
    },
    "papermill": {
     "duration": 1.371954,
     "end_time": "2024-09-11T11:20:56.269292",
     "exception": false,
     "start_time": "2024-09-11T11:20:54.897338",
     "status": "completed"
    },
    "tags": []
   },
   "outputs": [
    {
     "name": "stdout",
     "output_type": "stream",
     "text": [
      "   MedInc  HouseAge  AveRooms  AveBedrms  Population  AveOccup  Latitude  \\\n",
      "0  8.3252      41.0  6.984127   1.023810       322.0  2.555556     37.88   \n",
      "1  8.3014      21.0  6.238137   0.971880      2401.0  2.109842     37.86   \n",
      "2  7.2574      52.0  8.288136   1.073446       496.0  2.802260     37.85   \n",
      "3  5.6431      52.0  5.817352   1.073059       558.0  2.547945     37.85   \n",
      "4  3.8462      52.0  6.281853   1.081081       565.0  2.181467     37.85   \n",
      "\n",
      "   Longitude  PRICE  \n",
      "0    -122.23  4.526  \n",
      "1    -122.22  3.585  \n",
      "2    -122.24  3.521  \n",
      "3    -122.25  3.413  \n",
      "4    -122.25  3.422  \n"
     ]
    }
   ],
   "source": [
    "# Load California Housing data\n",
    "california = fetch_california_housing()\n",
    "\n",
    "# Convert data to DataFrame\n",
    "data = pd.DataFrame(california.data, columns=california.feature_names)\n",
    "\n",
    "# Add the target column (house prices)\n",
    "data['PRICE'] = california.target\n",
    "\n",
    "# Display the first 5 rows of the data\n",
    "print(data.head())\n"
   ]
  },
  {
   "cell_type": "markdown",
   "id": "f6e20c26",
   "metadata": {
    "papermill": {
     "duration": 0.009822,
     "end_time": "2024-09-11T11:20:56.289184",
     "exception": false,
     "start_time": "2024-09-11T11:20:56.279362",
     "status": "completed"
    },
    "tags": []
   },
   "source": [
    "# Data Exploration"
   ]
  },
  {
   "cell_type": "code",
   "execution_count": 3,
   "id": "a1c8e6ed",
   "metadata": {
    "execution": {
     "iopub.execute_input": "2024-09-11T11:20:56.311287Z",
     "iopub.status.busy": "2024-09-11T11:20:56.310814Z",
     "iopub.status.idle": "2024-09-11T11:20:56.795372Z",
     "shell.execute_reply": "2024-09-11T11:20:56.794164Z"
    },
    "papermill": {
     "duration": 0.49866,
     "end_time": "2024-09-11T11:20:56.797920",
     "exception": false,
     "start_time": "2024-09-11T11:20:56.299260",
     "status": "completed"
    },
    "tags": []
   },
   "outputs": [
    {
     "name": "stdout",
     "output_type": "stream",
     "text": [
      "<class 'pandas.core.frame.DataFrame'>\n",
      "RangeIndex: 20640 entries, 0 to 20639\n",
      "Data columns (total 9 columns):\n",
      " #   Column      Non-Null Count  Dtype  \n",
      "---  ------      --------------  -----  \n",
      " 0   MedInc      20640 non-null  float64\n",
      " 1   HouseAge    20640 non-null  float64\n",
      " 2   AveRooms    20640 non-null  float64\n",
      " 3   AveBedrms   20640 non-null  float64\n",
      " 4   Population  20640 non-null  float64\n",
      " 5   AveOccup    20640 non-null  float64\n",
      " 6   Latitude    20640 non-null  float64\n",
      " 7   Longitude   20640 non-null  float64\n",
      " 8   PRICE       20640 non-null  float64\n",
      "dtypes: float64(9)\n",
      "memory usage: 1.4 MB\n",
      "None\n",
      "             MedInc      HouseAge      AveRooms     AveBedrms    Population  \\\n",
      "count  20640.000000  20640.000000  20640.000000  20640.000000  20640.000000   \n",
      "mean       3.870671     28.639486      5.429000      1.096675   1425.476744   \n",
      "std        1.899822     12.585558      2.474173      0.473911   1132.462122   \n",
      "min        0.499900      1.000000      0.846154      0.333333      3.000000   \n",
      "25%        2.563400     18.000000      4.440716      1.006079    787.000000   \n",
      "50%        3.534800     29.000000      5.229129      1.048780   1166.000000   \n",
      "75%        4.743250     37.000000      6.052381      1.099526   1725.000000   \n",
      "max       15.000100     52.000000    141.909091     34.066667  35682.000000   \n",
      "\n",
      "           AveOccup      Latitude     Longitude         PRICE  \n",
      "count  20640.000000  20640.000000  20640.000000  20640.000000  \n",
      "mean       3.070655     35.631861   -119.569704      2.068558  \n",
      "std       10.386050      2.135952      2.003532      1.153956  \n",
      "min        0.692308     32.540000   -124.350000      0.149990  \n",
      "25%        2.429741     33.930000   -121.800000      1.196000  \n",
      "50%        2.818116     34.260000   -118.490000      1.797000  \n",
      "75%        3.282261     37.710000   -118.010000      2.647250  \n",
      "max     1243.333333     41.950000   -114.310000      5.000010  \n"
     ]
    },
    {
     "name": "stderr",
     "output_type": "stream",
     "text": [
      "/opt/conda/lib/python3.10/site-packages/seaborn/_oldcore.py:1119: FutureWarning: use_inf_as_na option is deprecated and will be removed in a future version. Convert inf values to NaN before operating instead.\n",
      "  with pd.option_context('mode.use_inf_as_na', True):\n"
     ]
    },
    {
     "data": {
      "image/png": "[encoded data removed]",
      "text/plain": [
       "<Figure size 640x480 with 1 Axes>"
      ]
     },
     "metadata": {},
     "output_type": "display_data"
    }
   ],
   "source": [
    "# Information about the data\n",
    "print(data.info())\n",
    "\n",
    "# Descriptive statistics\n",
    "print(data.describe())\n",
    "\n",
    "# Visualize the distribution of house prices\n",
    "sns.histplot(data['PRICE'], bins=30)\n",
    "plt.title('Distribution of House Prices')\n",
    "plt.show()\n"
   ]
  },
  {
   "cell_type": "markdown",
   "id": "8e3482e6",
   "metadata": {
    "papermill": {
     "duration": 0.010888,
     "end_time": "2024-09-11T11:20:56.820049",
     "exception": false,
     "start_time": "2024-09-11T11:20:56.809161",
     "status": "completed"
    },
    "tags": []
   },
   "source": [
    "# Data Cleaning"
   ]
  },
  {
   "cell_type": "code",
   "execution_count": 4,
   "id": "1fcd3694",
   "metadata": {
    "execution": {
     "iopub.execute_input": "2024-09-11T11:20:56.843868Z",
     "iopub.status.busy": "2024-09-11T11:20:56.842858Z",
     "iopub.status.idle": "2024-09-11T11:20:56.862352Z",
     "shell.execute_reply": "2024-09-11T11:20:56.861324Z"
    },
    "papermill": {
     "duration": 0.03411,
     "end_time": "2024-09-11T11:20:56.864912",
     "exception": false,
     "start_time": "2024-09-11T11:20:56.830802",
     "status": "completed"
    },
    "tags": []
   },
   "outputs": [],
   "source": [
    "data.drop_duplicates(inplace=True)"
   ]
  },
  {
   "cell_type": "code",
   "execution_count": 5,
   "id": "31038b70",
   "metadata": {
    "execution": {
     "iopub.execute_input": "2024-09-11T11:20:56.888533Z",
     "iopub.status.busy": "2024-09-11T11:20:56.888057Z",
     "iopub.status.idle": "2024-09-11T11:20:56.902082Z",
     "shell.execute_reply": "2024-09-11T11:20:56.900887Z"
    },
    "papermill": {
     "duration": 0.029129,
     "end_time": "2024-09-11T11:20:56.904701",
     "exception": false,
     "start_time": "2024-09-11T11:20:56.875572",
     "status": "completed"
    },
    "tags": []
   },
   "outputs": [
    {
     "name": "stdout",
     "output_type": "stream",
     "text": [
      "Index(['MedInc', 'HouseAge', 'AveRooms', 'AveBedrms', 'Population', 'AveOccup',\n",
      "       'Latitude', 'Longitude', 'PRICE'],\n",
      "      dtype='object')\n"
     ]
    }
   ],
   "source": [
    "# Assuming 'MedInc' is a column in your DataFrame\n",
    "Q1 = data['MedInc'].quantile(0.25)\n",
    "Q3 = data['MedInc'].quantile(0.75)\n",
    "IQR = Q3 - Q1\n",
    "\n",
    "# Filtering out outliers\n",
    "data = data[~((data['MedInc'] < (Q1 - 1.5 * IQR)) | (data['MedInc'] > (Q3 + 1.5 * IQR)))]\n",
    "\n",
    "print(data.columns)"
   ]
  },
  {
   "cell_type": "markdown",
   "id": "0823f887",
   "metadata": {
    "papermill": {
     "duration": 0.010573,
     "end_time": "2024-09-11T11:20:56.926174",
     "exception": false,
     "start_time": "2024-09-11T11:20:56.915601",
     "status": "completed"
    },
    "tags": []
   },
   "source": [
    "# Visualization"
   ]
  },
  {
   "cell_type": "markdown",
   "id": "f38f6379",
   "metadata": {
    "papermill": {
     "duration": 0.010475,
     "end_time": "2024-09-11T11:20:56.947592",
     "exception": false,
     "start_time": "2024-09-11T11:20:56.937117",
     "status": "completed"
    },
    "tags": []
   },
   "source": [
    "- To visualize the data and understand its distribution and patterns, we can use matplotlib and seaborn"
   ]
  },
  {
   "cell_type": "code",
   "execution_count": 6,
   "id": "05f7adf5",
   "metadata": {
    "execution": {
     "iopub.execute_input": "2024-09-11T11:20:56.971393Z",
     "iopub.status.busy": "2024-09-11T11:20:56.970923Z",
     "iopub.status.idle": "2024-09-11T11:20:57.623604Z",
     "shell.execute_reply": "2024-09-11T11:20:57.622453Z"
    },
    "papermill": {
     "duration": 0.667868,
     "end_time": "2024-09-11T11:20:57.626289",
     "exception": false,
     "start_time": "2024-09-11T11:20:56.958421",
     "status": "completed"
    },
    "tags": []
   },
   "outputs": [
    {
     "name": "stderr",
     "output_type": "stream",
     "text": [
      "/opt/conda/lib/python3.10/site-packages/seaborn/_oldcore.py:1119: FutureWarning: use_inf_as_na option is deprecated and will be removed in a future version. Convert inf values to NaN before operating instead.\n",
      "  with pd.option_context('mode.use_inf_as_na', True):\n"
     ]
    },
    {
     "data": {
      "image/png": "[encoded data removed]",
      "text/plain": [
       "<Figure size 640x480 with 1 Axes>"
      ]
     },
     "metadata": {},
     "output_type": "display_data"
    },
    {
     "data": {
      "image/png": "[encoded data removed]",
      "text/plain": [
       "<Figure size 640x480 with 1 Axes>"
      ]
     },
     "metadata": {},
     "output_type": "display_data"
    }
   ],
   "source": [
    "# Check the distribution of the HouseAge column\n",
    "sns.histplot(data['HouseAge'], bins=30)  # Plot the distribution of house ages\n",
    "plt.title('Distribution of House Age')\n",
    "plt.show()\n",
    "\n",
    "# Plot a boxplot for the HouseAge column\n",
    "sns.boxplot(x=data['HouseAge'])  # Boxplot to identify outliers\n",
    "plt.title('Boxplot of House Age')\n",
    "plt.show()"
   ]
  },
  {
   "cell_type": "markdown",
   "id": "f5b87649",
   "metadata": {
    "papermill": {
     "duration": 0.011668,
     "end_time": "2024-09-11T11:20:57.649556",
     "exception": false,
     "start_time": "2024-09-11T11:20:57.637888",
     "status": "completed"
    },
    "tags": []
   },
   "source": [
    "# Feature Extraction (Optional)"
   ]
  },
  {
   "cell_type": "code",
   "execution_count": 7,
   "id": "a597a0a6",
   "metadata": {
    "execution": {
     "iopub.execute_input": "2024-09-11T11:20:57.675075Z",
     "iopub.status.busy": "2024-09-11T11:20:57.674606Z",
     "iopub.status.idle": "2024-09-11T11:20:57.689213Z",
     "shell.execute_reply": "2024-09-11T11:20:57.687676Z"
    },
    "papermill": {
     "duration": 0.0303,
     "end_time": "2024-09-11T11:20:57.691785",
     "exception": false,
     "start_time": "2024-09-11T11:20:57.661485",
     "status": "completed"
    },
    "tags": []
   },
   "outputs": [
    {
     "name": "stdout",
     "output_type": "stream",
     "text": [
      "   MedInc  HouseAge  AveRooms  AveBedrms  Population  AveOccup  Latitude  \\\n",
      "2  7.2574      52.0  8.288136   1.073446       496.0  2.802260     37.85   \n",
      "3  5.6431      52.0  5.817352   1.073059       558.0  2.547945     37.85   \n",
      "4  3.8462      52.0  6.281853   1.081081       565.0  2.181467     37.85   \n",
      "5  4.0368      52.0  4.761658   1.103627       413.0  2.139896     37.85   \n",
      "6  3.6591      52.0  4.931907   0.951362      1094.0  2.128405     37.84   \n",
      "\n",
      "   Longitude  PRICE  RoomBedRatio  \n",
      "2    -122.24  3.521      7.721053  \n",
      "3    -122.25  3.413      5.421277  \n",
      "4    -122.25  3.422      5.810714  \n",
      "5    -122.25  2.697      4.314554  \n",
      "6    -122.25  2.992      5.184049  \n"
     ]
    }
   ],
   "source": [
    "# Creating a new feature: the ratio of average rooms to average bedrooms\n",
    "data['RoomBedRatio'] = data['AveRooms'] / data['AveBedrms']\n",
    "print(data.head())  # Display the first few rows to verify the new feature"
   ]
  },
  {
   "cell_type": "markdown",
   "id": "6774a35d",
   "metadata": {
    "papermill": {
     "duration": 0.011637,
     "end_time": "2024-09-11T11:20:57.715069",
     "exception": false,
     "start_time": "2024-09-11T11:20:57.703432",
     "status": "completed"
    },
    "tags": []
   },
   "source": [
    "# Split Data into X and Y"
   ]
  },
  {
   "cell_type": "code",
   "execution_count": 8,
   "id": "035fab72",
   "metadata": {
    "execution": {
     "iopub.execute_input": "2024-09-11T11:20:57.740912Z",
     "iopub.status.busy": "2024-09-11T11:20:57.740429Z",
     "iopub.status.idle": "2024-09-11T11:20:57.747881Z",
     "shell.execute_reply": "2024-09-11T11:20:57.746758Z"
    },
    "papermill": {
     "duration": 0.023546,
     "end_time": "2024-09-11T11:20:57.750321",
     "exception": false,
     "start_time": "2024-09-11T11:20:57.726775",
     "status": "completed"
    },
    "tags": []
   },
   "outputs": [],
   "source": [
    "# Split data into features (X) and target (y)\n",
    "X = data.drop('PRICE', axis=1)  # Features\n",
    "y = data['PRICE']  # Target variable"
   ]
  },
  {
   "cell_type": "markdown",
   "id": "e6c9da1e",
   "metadata": {
    "papermill": {
     "duration": 0.011516,
     "end_time": "2024-09-11T11:20:57.773865",
     "exception": false,
     "start_time": "2024-09-11T11:20:57.762349",
     "status": "completed"
    },
    "tags": []
   },
   "source": [
    "# Preprocessing"
   ]
  },
  {
   "cell_type": "markdown",
   "id": "db73f383",
   "metadata": {
    "papermill": {
     "duration": 0.011616,
     "end_time": "2024-09-11T11:20:57.797950",
     "exception": false,
     "start_time": "2024-09-11T11:20:57.786334",
     "status": "completed"
    },
    "tags": []
   },
   "source": [
    "-   Preprocessing involves converting categorical values to numeric and scaling the data:\n",
    "\n",
    "-   Encoding Categorical Variables:"
   ]
  },
  {
   "cell_type": "code",
   "execution_count": 9,
   "id": "7ed1ade3",
   "metadata": {
    "execution": {
     "iopub.execute_input": "2024-09-11T11:20:57.823817Z",
     "iopub.status.busy": "2024-09-11T11:20:57.822791Z",
     "iopub.status.idle": "2024-09-11T11:20:57.831032Z",
     "shell.execute_reply": "2024-09-11T11:20:57.829902Z"
    },
    "papermill": {
     "duration": 0.023749,
     "end_time": "2024-09-11T11:20:57.833486",
     "exception": false,
     "start_time": "2024-09-11T11:20:57.809737",
     "status": "completed"
    },
    "tags": []
   },
   "outputs": [
    {
     "name": "stdout",
     "output_type": "stream",
     "text": [
      "Index(['MedInc', 'HouseAge', 'AveRooms', 'AveBedrms', 'Population', 'AveOccup',\n",
      "       'Latitude', 'Longitude', 'PRICE', 'RoomBedRatio'],\n",
      "      dtype='object')\n",
      "The column 'ocean_proximity' does not exist in the dataset.\n"
     ]
    }
   ],
   "source": [
    "from sklearn.preprocessing import LabelEncoder\n",
    "\n",
    "# Initialize the LabelEncoder\n",
    "le = LabelEncoder()\n",
    "\n",
    "# Print available columns to verify the categorical column name\n",
    "print(data.columns)\n",
    "\n",
    "# Check if the column 'ocean_proximity' exists\n",
    "if 'ocean_proximity' in data.columns:\n",
    "    # Encode the 'ocean_proximity' column\n",
    "    data['ocean_proximity'] = le.fit_transform(data['ocean_proximity'])\n",
    "    print(data.head())  # Display the first few rows to verify the encoding\n",
    "else:\n",
    "    print(\"The column 'ocean_proximity' does not exist in the dataset.\")\n",
    "    # Add any alternative steps or modifications you need here\n"
   ]
  },
  {
   "cell_type": "markdown",
   "id": "5cfc165b",
   "metadata": {
    "papermill": {
     "duration": 0.011478,
     "end_time": "2024-09-11T11:20:57.857389",
     "exception": false,
     "start_time": "2024-09-11T11:20:57.845911",
     "status": "completed"
    },
    "tags": []
   },
   "source": [
    "-   Scaling Data"
   ]
  },
  {
   "cell_type": "code",
   "execution_count": 10,
   "id": "37edd0a8",
   "metadata": {
    "execution": {
     "iopub.execute_input": "2024-09-11T11:20:57.883386Z",
     "iopub.status.busy": "2024-09-11T11:20:57.882915Z",
     "iopub.status.idle": "2024-09-11T11:20:57.898334Z",
     "shell.execute_reply": "2024-09-11T11:20:57.897122Z"
    },
    "papermill": {
     "duration": 0.031803,
     "end_time": "2024-09-11T11:20:57.901121",
     "exception": false,
     "start_time": "2024-09-11T11:20:57.869318",
     "status": "completed"
    },
    "tags": []
   },
   "outputs": [],
   "source": [
    "scaler = StandardScaler()\n",
    "X_scaled = scaler.fit_transform(X)"
   ]
  },
  {
   "cell_type": "markdown",
   "id": "2c66b12f",
   "metadata": {
    "papermill": {
     "duration": 0.011459,
     "end_time": "2024-09-11T11:20:57.924278",
     "exception": false,
     "start_time": "2024-09-11T11:20:57.912819",
     "status": "completed"
    },
    "tags": []
   },
   "source": [
    "# Split Data into Train and Test Sets"
   ]
  },
  {
   "cell_type": "markdown",
   "id": "666cc462",
   "metadata": {
    "papermill": {
     "duration": 0.011306,
     "end_time": "2024-09-11T11:20:57.947388",
     "exception": false,
     "start_time": "2024-09-11T11:20:57.936082",
     "status": "completed"
    },
    "tags": []
   },
   "source": [
    "-   We split the data into training and testing sets to evaluate the model"
   ]
  },
  {
   "cell_type": "code",
   "execution_count": 11,
   "id": "2e9a4600",
   "metadata": {
    "execution": {
     "iopub.execute_input": "2024-09-11T11:20:57.972531Z",
     "iopub.status.busy": "2024-09-11T11:20:57.972094Z",
     "iopub.status.idle": "2024-09-11T11:20:57.982677Z",
     "shell.execute_reply": "2024-09-11T11:20:57.981455Z"
    },
    "papermill": {
     "duration": 0.026263,
     "end_time": "2024-09-11T11:20:57.985312",
     "exception": false,
     "start_time": "2024-09-11T11:20:57.959049",
     "status": "completed"
    },
    "tags": []
   },
   "outputs": [],
   "source": [
    "X_train, X_test, y_train, y_test = train_test_split(X_scaled, y, test_size=0.2, random_state=42)"
   ]
  },
  {
   "cell_type": "markdown",
   "id": "4c181c64",
   "metadata": {
    "papermill": {
     "duration": 0.01148,
     "end_time": "2024-09-11T11:20:58.008681",
     "exception": false,
     "start_time": "2024-09-11T11:20:57.997201",
     "status": "completed"
    },
    "tags": []
   },
   "source": [
    "# Build Model"
   ]
  },
  {
   "cell_type": "markdown",
   "id": "f2c2523d",
   "metadata": {
    "papermill": {
     "duration": 0.011629,
     "end_time": "2024-09-11T11:20:58.032227",
     "exception": false,
     "start_time": "2024-09-11T11:20:58.020598",
     "status": "completed"
    },
    "tags": []
   },
   "source": [
    "-   We train the model using different algorithms; for example, the Linear Regression algorithm"
   ]
  },
  {
   "cell_type": "code",
   "execution_count": 12,
   "id": "32a4095b",
   "metadata": {
    "execution": {
     "iopub.execute_input": "2024-09-11T11:20:58.058215Z",
     "iopub.status.busy": "2024-09-11T11:20:58.057744Z",
     "iopub.status.idle": "2024-09-11T11:20:58.097469Z",
     "shell.execute_reply": "2024-09-11T11:20:58.096096Z"
    },
    "papermill": {
     "duration": 0.055829,
     "end_time": "2024-09-11T11:20:58.100027",
     "exception": false,
     "start_time": "2024-09-11T11:20:58.044198",
     "status": "completed"
    },
    "tags": []
   },
   "outputs": [
    {
     "data": {
      "text/html": [
       "<style>#sk-container-id-1 {color: black;background-color: white;}#sk-container-id-1 pre{padding: 0;}#sk-container-id-1 div.sk-toggleable {background-color: white;}#sk-container-id-1 label.sk-toggleable__label {cursor: pointer;display: block;width: 100%;margin-bottom: 0;padding: 0.3em;box-sizing: border-box;text-align: center;}#sk-container-id-1 label.sk-toggleable__label-arrow:before {content: \"▸\";float: left;margin-right: 0.25em;color: #696969;}#sk-container-id-1 label.sk-toggleable__label-arrow:hover:before {color: black;}#sk-container-id-1 div.sk-estimator:hover label.sk-toggleable__label-arrow:before {color: black;}#sk-container-id-1 div.sk-toggleable__content {max-height: 0;max-width: 0;overflow: hidden;text-align: left;background-color: #f0f8ff;}#sk-container-id-1 div.sk-toggleable__content pre {margin: 0.2em;color: black;border-radius: 0.25em;background-color: #f0f8ff;}#sk-container-id-1 input.sk-toggleable__control:checked~div.sk-toggleable__content {max-height: 200px;max-width: 100%;overflow: auto;}#sk-container-id-1 input.sk-toggleable__control:checked~label.sk-toggleable__label-arrow:before {content: \"▾\";}#sk-container-id-1 div.sk-estimator input.sk-toggleable__control:checked~label.sk-toggleable__label {background-color: #d4ebff;}#sk-container-id-1 div.sk-label input.sk-toggleable__control:checked~label.sk-toggleable__label {background-color: #d4ebff;}#sk-container-id-1 input.sk-hidden--visually {border: 0;clip: rect(1px 1px 1px 1px);clip: rect(1px, 1px, 1px, 1px);height: 1px;margin: -1px;overflow: hidden;padding: 0;position: absolute;width: 1px;}#sk-container-id-1 div.sk-estimator {font-family: monospace;background-color: #f0f8ff;border: 1px dotted black;border-radius: 0.25em;box-sizing: border-box;margin-bottom: 0.5em;}#sk-container-id-1 div.sk-estimator:hover {background-color: #d4ebff;}#sk-container-id-1 div.sk-parallel-item::after {content: \"\";width: 100%;border-bottom: 1px solid gray;flex-grow: 1;}#sk-container-id-1 div.sk-label:hover label.sk-toggleable__label {background-color: #d4ebff;}#sk-container-id-1 div.sk-serial::before {content: \"\";position: absolute;border-left: 1px solid gray;box-sizing: border-box;top: 0;bottom: 0;left: 50%;z-index: 0;}#sk-container-id-1 div.sk-serial {display: flex;flex-direction: column;align-items: center;background-color: white;padding-right: 0.2em;padding-left: 0.2em;position: relative;}#sk-container-id-1 div.sk-item {position: relative;z-index: 1;}#sk-container-id-1 div.sk-parallel {display: flex;align-items: stretch;justify-content: center;background-color: white;position: relative;}#sk-container-id-1 div.sk-item::before, #sk-container-id-1 div.sk-parallel-item::before {content: \"\";position: absolute;border-left: 1px solid gray;box-sizing: border-box;top: 0;bottom: 0;left: 50%;z-index: -1;}#sk-container-id-1 div.sk-parallel-item {display: flex;flex-direction: column;z-index: 1;position: relative;background-color: white;}#sk-container-id-1 div.sk-parallel-item:first-child::after {align-self: flex-end;width: 50%;}#sk-container-id-1 div.sk-parallel-item:last-child::after {align-self: flex-start;width: 50%;}#sk-container-id-1 div.sk-parallel-item:only-child::after {width: 0;}#sk-container-id-1 div.sk-dashed-wrapped {border: 1px dashed gray;margin: 0 0.4em 0.5em 0.4em;box-sizing: border-box;padding-bottom: 0.4em;background-color: white;}#sk-container-id-1 div.sk-label label {font-family: monospace;font-weight: bold;display: inline-block;line-height: 1.2em;}#sk-container-id-1 div.sk-label-container {text-align: center;}#sk-container-id-1 div.sk-container {/* jupyter's `normalize.less` sets `[hidden] { display: none; }` but bootstrap.min.css set `[hidden] { display: none !important; }` so we also need the `!important` here to be able to override the default hidden behavior on the sphinx rendered scikit-learn.org. See: https://github.com/scikit-learn/scikit-learn/issues/21755 */display: inline-block !important;position: relative;}#sk-container-id-1 div.sk-text-repr-fallback {display: none;}</style><div id=\"sk-container-id-1\" class=\"sk-top-container\"><div class=\"sk-text-repr-fallback\"><pre>LinearRegression()</pre><b>In a Jupyter environment, please rerun this cell to show the HTML representation or trust the notebook. <br />On GitHub, the HTML representation is unable to render, please try loading this page with nbviewer.org.</b></div><div class=\"sk-container\" hidden><div class=\"sk-item\"><div class=\"sk-estimator sk-toggleable\"><input class=\"sk-toggleable__control sk-hidden--visually\" id=\"sk-estimator-id-1\" type=\"checkbox\" checked><label for=\"sk-estimator-id-1\" class=\"sk-toggleable__label sk-toggleable__label-arrow\">LinearRegression</label><div class=\"sk-toggleable__content\"><pre>LinearRegression()</pre></div></div></div></div></div>"
      ],
      "text/plain": [
       "LinearRegression()"
      ]
     },
     "execution_count": 12,
     "metadata": {},
     "output_type": "execute_result"
    }
   ],
   "source": [
    "model = LinearRegression()\n",
    "model.fit(X_train, y_train)"
   ]
  },
  {
   "cell_type": "markdown",
   "id": "c85c59a6",
   "metadata": {
    "papermill": {
     "duration": 0.012101,
     "end_time": "2024-09-11T11:20:58.124556",
     "exception": false,
     "start_time": "2024-09-11T11:20:58.112455",
     "status": "completed"
    },
    "tags": []
   },
   "source": [
    "# Check Accuracy"
   ]
  },
  {
   "cell_type": "markdown",
   "id": "d60de7e5",
   "metadata": {
    "papermill": {
     "duration": 0.011903,
     "end_time": "2024-09-11T11:20:58.148931",
     "exception": false,
     "start_time": "2024-09-11T11:20:58.137028",
     "status": "completed"
    },
    "tags": []
   },
   "source": [
    "-   We evaluate the model's performance using the test data"
   ]
  },
  {
   "cell_type": "code",
   "execution_count": 13,
   "id": "76013b0c",
   "metadata": {
    "execution": {
     "iopub.execute_input": "2024-09-11T11:20:58.176303Z",
     "iopub.status.busy": "2024-09-11T11:20:58.175217Z",
     "iopub.status.idle": "2024-09-11T11:20:58.190817Z",
     "shell.execute_reply": "2024-09-11T11:20:58.189422Z"
    },
    "papermill": {
     "duration": 0.033207,
     "end_time": "2024-09-11T11:20:58.194395",
     "exception": false,
     "start_time": "2024-09-11T11:20:58.161188",
     "status": "completed"
    },
    "tags": []
   },
   "outputs": [
    {
     "name": "stdout",
     "output_type": "stream",
     "text": [
      "Accuracy: 0.5589079046779543\n"
     ]
    }
   ],
   "source": [
    "y_pred = model.predict(X_test)\n",
    "print(\"Accuracy:\", model.score(X_test, y_test))"
   ]
  },
  {
   "cell_type": "markdown",
   "id": "81d3384a",
   "metadata": {
    "papermill": {
     "duration": 0.024903,
     "end_time": "2024-09-11T11:20:58.244479",
     "exception": false,
     "start_time": "2024-09-11T11:20:58.219576",
     "status": "completed"
    },
    "tags": []
   },
   "source": [
    "# Hyperparameter Tuning"
   ]
  },
  {
   "cell_type": "markdown",
   "id": "af565167",
   "metadata": {
    "papermill": {
     "duration": 0.024816,
     "end_time": "2024-09-11T11:20:58.295870",
     "exception": false,
     "start_time": "2024-09-11T11:20:58.271054",
     "status": "completed"
    },
    "tags": []
   },
   "source": [
    "-   Using Grid Search or Cross Validation to optimize the model's performance"
   ]
  },
  {
   "cell_type": "code",
   "execution_count": 14,
   "id": "8421f050",
   "metadata": {
    "execution": {
     "iopub.execute_input": "2024-09-11T11:20:58.325874Z",
     "iopub.status.busy": "2024-09-11T11:20:58.325419Z",
     "iopub.status.idle": "2024-09-11T11:20:58.694030Z",
     "shell.execute_reply": "2024-09-11T11:20:58.692232Z"
    },
    "papermill": {
     "duration": 0.386721,
     "end_time": "2024-09-11T11:20:58.698132",
     "exception": false,
     "start_time": "2024-09-11T11:20:58.311411",
     "status": "completed"
    },
    "tags": []
   },
   "outputs": [
    {
     "name": "stdout",
     "output_type": "stream",
     "text": [
      "Best Parameters: {'regressor__fit_intercept': True}\n"
     ]
    }
   ],
   "source": [
    "from sklearn.model_selection import GridSearchCV\n",
    "from sklearn.linear_model import LinearRegression\n",
    "from sklearn.preprocessing import StandardScaler\n",
    "from sklearn.pipeline import Pipeline\n",
    "\n",
    "# Create a pipeline to include scaling and the model\n",
    "pipeline = Pipeline([\n",
    "    ('scaler', StandardScaler()),  # Scaling the data\n",
    "    ('regressor', LinearRegression())  # Linear Regression model\n",
    "])\n",
    "\n",
    "# Define the parameter grid for GridSearchCV\n",
    "param_grid = {\n",
    "    'regressor__fit_intercept': [True, False]  # Only optimize fit_intercept\n",
    "}\n",
    "\n",
    "# Set up GridSearchCV\n",
    "grid = GridSearchCV(pipeline, param_grid, cv=5)\n",
    "\n",
    "# Fit the GridSearchCV to the training data\n",
    "grid.fit(X_train, y_train)\n",
    "\n",
    "# Print the best parameters found by GridSearchCV\n",
    "print(\"Best Parameters:\", grid.best_params_)\n"
   ]
  },
  {
   "cell_type": "markdown",
   "id": "38ce7a65",
   "metadata": {
    "papermill": {
     "duration": 0.026471,
     "end_time": "2024-09-11T11:20:58.780486",
     "exception": false,
     "start_time": "2024-09-11T11:20:58.754015",
     "status": "completed"
    },
    "tags": []
   },
   "source": [
    "# Save Model"
   ]
  },
  {
   "cell_type": "markdown",
   "id": "714f5d56",
   "metadata": {
    "papermill": {
     "duration": 0.012542,
     "end_time": "2024-09-11T11:20:58.805781",
     "exception": false,
     "start_time": "2024-09-11T11:20:58.793239",
     "status": "completed"
    },
    "tags": []
   },
   "source": [
    "-   We can save the final model for future use using the joblib library"
   ]
  },
  {
   "cell_type": "code",
   "execution_count": 15,
   "id": "9bd1ad26",
   "metadata": {
    "execution": {
     "iopub.execute_input": "2024-09-11T11:20:58.832537Z",
     "iopub.status.busy": "2024-09-11T11:20:58.832100Z",
     "iopub.status.idle": "2024-09-11T11:20:58.841310Z",
     "shell.execute_reply": "2024-09-11T11:20:58.840034Z"
    },
    "papermill": {
     "duration": 0.025551,
     "end_time": "2024-09-11T11:20:58.843705",
     "exception": false,
     "start_time": "2024-09-11T11:20:58.818154",
     "status": "completed"
    },
    "tags": []
   },
   "outputs": [
    {
     "data": {
      "text/plain": [
       "['model.pkl']"
      ]
     },
     "execution_count": 15,
     "metadata": {},
     "output_type": "execute_result"
    }
   ],
   "source": [
    "import joblib\n",
    "\n",
    "joblib.dump(model, 'model.pkl')\n"
   ]
  },
  {
   "cell_type": "markdown",
   "id": "fb04eae1",
   "metadata": {
    "papermill": {
     "duration": 0.012484,
     "end_time": "2024-09-11T11:20:58.868904",
     "exception": false,
     "start_time": "2024-09-11T11:20:58.856420",
     "status": "completed"
    },
    "tags": []
   },
   "source": [
    "**This provides a comprehensive guide for building a machine learning model from start to finish**"
   ]
  }
 ],
 "metadata": {
  "kaggle": {
   "accelerator": "none",
   "dataSources": [],
   "dockerImageVersionId": 30761,
   "isGpuEnabled": false,
   "isInternetEnabled": true,
   "language": "python",
   "sourceType": "notebook"
  },
  "kernelspec": {
   "display_name": "Python 3",
   "language": "python",
   "name": "python3"
  },
  "language_info": {
   "codemirror_mode": {
    "name": "ipython",
    "version": 3
   },
   "file_extension": ".py",
   "mimetype": "text/x-python",
   "name": "python",
   "nbconvert_exporter": "python",
   "pygments_lexer": "ipython3",
   "version": "3.10.14"
  },
  "papermill": {
   "default_parameters": {},
   "duration": 10.61776,
   "end_time": "2024-09-11T11:20:59.603868",
   "environment_variables": {},
   "exception": null,
   "input_path": "__notebook__.ipynb",
   "output_path": "__notebook__.ipynb",
   "parameters": {},
   "start_time": "2024-09-11T11:20:48.986108",
   "version": "2.6.0"
  }
 },
 "nbformat": 4,
 "nbformat_minor": 5
}
